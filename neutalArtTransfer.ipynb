{
  "nbformat": 4,
  "nbformat_minor": 0,
  "metadata": {
    "accelerator": "GPU",
    "colab": {
      "name": "neutalArtTransfer.ipynb",
      "provenance": [],
      "collapsed_sections": [],
      "include_colab_link": true
    },
    "kernelspec": {
      "display_name": "Python 3",
      "name": "python3"
    }
  },
  "cells": [
    {
      "cell_type": "markdown",
      "metadata": {
        "id": "view-in-github",
        "colab_type": "text"
      },
      "source": [
        "<a href=\"https://colab.research.google.com/github/jainilparikh/NeuralArtTransfer/blob/master/neutalArtTransfer.ipynb\" target=\"_parent\"><img src=\"https://colab.research.google.com/assets/colab-badge.svg\" alt=\"Open In Colab\"/></a>"
      ]
    },
    {
      "cell_type": "code",
      "metadata": {
        "colab": {
          "base_uri": "https://localhost:8080/"
        },
        "id": "ibh5IkIS0ky8",
        "outputId": "f5811153-957d-490f-c5a4-0406e94e9bd8"
      },
      "source": [
        "from flask import Flask\n",
        "import numpy as np\n",
        "import cv2\n",
        "import tensorflow as tf;\n",
        "import imageio\n",
        "import scipy.misc\n",
        "import matplotlib.pyplot as plt\n",
        "from tensorflow.keras.models import Model\n",
        "print(tf.__version__)\n",
        "print(tf.config.list_physical_devices('GPU'))"
      ],
      "execution_count": 1,
      "outputs": [
        {
          "output_type": "stream",
          "text": [
            "2.4.1\n",
            "[PhysicalDevice(name='/physical_device:GPU:0', device_type='GPU')]\n"
          ],
          "name": "stdout"
        }
      ]
    },
    {
      "cell_type": "code",
      "metadata": {
        "id": "cfnKFlku0o82"
      },
      "source": [
        "#from google.colab import files\n",
        "\n",
        "#content_img = files.upload()"
      ],
      "execution_count": 2,
      "outputs": []
    },
    {
      "cell_type": "markdown",
      "metadata": {
        "id": "xTYmhH1Z1V1j"
      },
      "source": [
        ""
      ]
    },
    {
      "cell_type": "code",
      "metadata": {
        "id": "HNB8upel0_om"
      },
      "source": [
        "#from google.colab import files\n",
        "#styleImage = files.upload()"
      ],
      "execution_count": 3,
      "outputs": []
    },
    {
      "cell_type": "code",
      "metadata": {
        "id": "R8G3169c1GUu"
      },
      "source": [
        "def get_image(imgpath):\n",
        "    w=512\n",
        "    h=512\n",
        "    loaded_img = tf.keras.preprocessing.image.load_img(imgpath,target_size=(w,h))\n",
        "   \n",
        "    image = tf.keras.applications.vgg19.preprocess_input(tf.keras.preprocessing.image.img_to_array(loaded_img))\n",
        "    image=cv2.cvtColor(image,cv2.COLOR_BGR2RGB)\n",
        "    image = np.expand_dims(image , axis = 0)\n",
        "    return image\n",
        "def imgshow(image):\n",
        "    image[:,:,0]  *=64/255.0\n",
        "    image[:,:,1] *=128/255.0\n",
        "    image[:,:,2] *=192/255.0\n",
        "    image = image[:,:,::-1]\n",
        "    image = np.clip(image,0,255).astype('uint8')\n",
        "    img=np.squeeze(image)\n",
        "    plt.figure(figsize = (50,10))\n",
        "    plt.imshow(img, interpolation='nearest')\n",
        "def imshowImage(image):\n",
        "  image[:,:,0]  *=64/255.0\n",
        "  image[:,:,1] *=128/255.0\n",
        "  image[:,:,2] *=192/255.0\n",
        "  image = image[:,:,::-1]\n",
        "  image = np.clip(image,0,255).astype('uint8')\n",
        "  img=np.squeeze(image)\n",
        "  return img\n",
        "#styleImage = get_image(\"/content/style.jpg\")\n",
        "#contentImage = get_image(\"/content/content.jpg\")\n",
        "#imgshow(styleImage)\n"
      ],
      "execution_count": 4,
      "outputs": []
    },
    {
      "cell_type": "code",
      "metadata": {
        "id": "3tTEar4U1WVt"
      },
      "source": [
        "from tensorflow.keras.applications.vgg19 import VGG19"
      ],
      "execution_count": 5,
      "outputs": []
    },
    {
      "cell_type": "markdown",
      "metadata": {
        "id": "4PVdAAj42XAd"
      },
      "source": [
        "# Layer Extraction From VGG Model "
      ]
    },
    {
      "cell_type": "code",
      "metadata": {
        "colab": {
          "base_uri": "https://localhost:8080/"
        },
        "id": "zjMiZwfm3MkB",
        "outputId": "9f663afc-bdf7-4240-c470-64d4b9399030"
      },
      "source": [
        "baseModel = VGG19(weights='imagenet',include_top=False,pooling='Max');\n",
        "baseModel.trainable = False;\n",
        "contentImageLayers = ['block5_conv2']\n",
        "styleImageLayers = [\"block1_conv1\",\"block2_conv1\",\"block3_conv1\",\"block4_conv1\",\"block5_conv1\"]\n",
        "baseModel.get_layer(contentImageLayers[0])\n",
        "print(baseModel.input)"
      ],
      "execution_count": 6,
      "outputs": [
        {
          "output_type": "stream",
          "text": [
            "Downloading data from https://storage.googleapis.com/tensorflow/keras-applications/vgg19/vgg19_weights_tf_dim_ordering_tf_kernels_notop.h5\n",
            "80142336/80134624 [==============================] - 1s 0us/step\n",
            "KerasTensor(type_spec=TensorSpec(shape=(None, None, None, 3), dtype=tf.float32, name='input_1'), name='input_1', description=\"created by layer 'input_1'\")\n"
          ],
          "name": "stdout"
        }
      ]
    },
    {
      "cell_type": "markdown",
      "metadata": {
        "id": "gDarShId5pwg"
      },
      "source": [
        "#Model Prep"
      ]
    },
    {
      "cell_type": "code",
      "metadata": {
        "id": "M-FUphBU3wMD"
      },
      "source": [
        "contentModel = Model(inputs = baseModel.input,outputs = baseModel.get_layer(contentImageLayers[0]).output) "
      ],
      "execution_count": 7,
      "outputs": []
    },
    {
      "cell_type": "code",
      "metadata": {
        "id": "TJHqTEJA49Kt"
      },
      "source": [
        "styleModel = [Model(inputs = baseModel.input , outputs = baseModel.get_layer(Layer).output) for Layer in styleImageLayers]"
      ],
      "execution_count": 8,
      "outputs": []
    },
    {
      "cell_type": "code",
      "metadata": {
        "id": "U6jLKrmY8npl"
      },
      "source": [
        ""
      ],
      "execution_count": 8,
      "outputs": []
    },
    {
      "cell_type": "markdown",
      "metadata": {
        "id": "vlOdWBGwosIM"
      },
      "source": [
        "# Content Loss"
      ]
    },
    {
      "cell_type": "code",
      "metadata": {
        "id": "EIoMaJ4p8zF1"
      },
      "source": [
        "def customLoss(model,inputImage,outputImage):\n",
        "  val = tf.reduce_mean((model(inputImage) - model(outputImage))**2)\n",
        "  return val;"
      ],
      "execution_count": 9,
      "outputs": []
    },
    {
      "cell_type": "markdown",
      "metadata": {
        "id": "hpn453Seo0yl"
      },
      "source": [
        "# GRAM Matrix ( For Style Loss)"
      ]
    },
    {
      "cell_type": "code",
      "metadata": {
        "id": "EMrrAlWSZUxg"
      },
      "source": [
        "def gramMatrix(inputImage):\n",
        "  channels=int(inputImage.shape[-1])\n",
        "  a=tf.reshape(inputImage,[-1,channels])\n",
        "  n=tf.shape(a)[0]\n",
        "  gram=tf.matmul(a,a,transpose_a=True)\n",
        "  return(gram/tf.cast(n,tf.float32))"
      ],
      "execution_count": 10,
      "outputs": []
    },
    {
      "cell_type": "markdown",
      "metadata": {
        "id": "X32Lk-cHox0y"
      },
      "source": [
        "# Style Loss"
      ]
    },
    {
      "cell_type": "code",
      "metadata": {
        "id": "2VhfB3bHU4Ct"
      },
      "source": [
        "def styleLoss(model,inputImage,generated):\n",
        "  error = 0\n",
        "  for styleModels in model:\n",
        "    styleVal = styleModels(inputImage);\n",
        "    generatedVal = styleModels(generated)\n",
        "    val = tf.reduce_mean((gramMatrix(styleVal) - gramMatrix(generatedVal))**2);\n",
        "    error = error + val*1/len(model);\n",
        "  return error;"
      ],
      "execution_count": 11,
      "outputs": []
    },
    {
      "cell_type": "markdown",
      "metadata": {
        "id": "BGVCFHxDajAm"
      },
      "source": [
        "# Training the Initial Image with Content and Style Images"
      ]
    },
    {
      "cell_type": "code",
      "metadata": {
        "id": "wa-D61U_akmz"
      },
      "source": [
        "def runFunction(contentImage,styleImage):\n",
        "  ## Calculate loss for content image\n",
        "  ## Calculate loss for style image\n",
        "  ## update the initial image by the error from the losses calculated\n",
        "  ## repeat the process\n",
        "  contentGenerated = tf.Variable(contentImage,dtype = tf.float32);\n",
        "  optimizer = tf.keras.optimizers.Adam(learning_rate = 10)\n",
        "  maxImage = contentGenerated;\n",
        "  maxCost = 1e12\n",
        "\n",
        "  ## Weighted Loss calcualtion\n",
        "  for i in range(0,10):\n",
        "    print('Iteration : ' + str(i))\n",
        "    with tf.GradientTape() as tape:\n",
        "      contentLossVal = customLoss(contentModel,contentImage,contentGenerated)\n",
        "      styleLossVal = styleLoss(styleModel , styleImage , contentGenerated)\n",
        "      cost = contentLossVal * 40 + styleLossVal * 1000;\n",
        "      gradient = tape.gradient(cost , contentGenerated);\n",
        "      optimizer.apply_gradients([(gradient,contentGenerated)])\n",
        "      print(cost)\n",
        "      if(cost < maxCost):\n",
        "        maxCost = cost;\n",
        "        maxImage = contentGenerated.numpy();\n",
        "  return maxImage,contentGenerated.numpy();"
      ],
      "execution_count": 12,
      "outputs": []
    },
    {
      "cell_type": "code",
      "metadata": {
        "id": "r_6vTQoW6OQk"
      },
      "source": [
        "#img,imgVal = runFunction(contentImage,styleImage)"
      ],
      "execution_count": 13,
      "outputs": []
    },
    {
      "cell_type": "code",
      "metadata": {
        "id": "48h_3Z_p7Fxj"
      },
      "source": [
        "## Original Image\n",
        "\n",
        "#imgshow(contentImage)"
      ],
      "execution_count": 14,
      "outputs": []
    },
    {
      "cell_type": "markdown",
      "metadata": {
        "id": "iPqImQTS6MyF"
      },
      "source": [
        "# Result Image"
      ]
    },
    {
      "cell_type": "code",
      "metadata": {
        "id": "74rFJi5HNRWq"
      },
      "source": [
        "#imgshow(imgVal)"
      ],
      "execution_count": 15,
      "outputs": []
    },
    {
      "cell_type": "code",
      "metadata": {
        "colab": {
          "base_uri": "https://localhost:8080/"
        },
        "id": "JtrqOHU9Q4Tc",
        "outputId": "3c81ce78-3a25-4b13-c1d8-224d411d593a"
      },
      "source": [
        "!pip install flask-ngrok"
      ],
      "execution_count": 16,
      "outputs": [
        {
          "output_type": "stream",
          "text": [
            "Collecting flask-ngrok\n",
            "  Downloading https://files.pythonhosted.org/packages/af/6c/f54cb686ad1129e27d125d182f90f52b32f284e6c8df58c1bae54fa1adbc/flask_ngrok-0.0.25-py3-none-any.whl\n",
            "Requirement already satisfied: requests in /usr/local/lib/python3.7/dist-packages (from flask-ngrok) (2.23.0)\n",
            "Requirement already satisfied: Flask>=0.8 in /usr/local/lib/python3.7/dist-packages (from flask-ngrok) (1.1.2)\n",
            "Requirement already satisfied: urllib3!=1.25.0,!=1.25.1,<1.26,>=1.21.1 in /usr/local/lib/python3.7/dist-packages (from requests->flask-ngrok) (1.24.3)\n",
            "Requirement already satisfied: certifi>=2017.4.17 in /usr/local/lib/python3.7/dist-packages (from requests->flask-ngrok) (2020.12.5)\n",
            "Requirement already satisfied: idna<3,>=2.5 in /usr/local/lib/python3.7/dist-packages (from requests->flask-ngrok) (2.10)\n",
            "Requirement already satisfied: chardet<4,>=3.0.2 in /usr/local/lib/python3.7/dist-packages (from requests->flask-ngrok) (3.0.4)\n",
            "Requirement already satisfied: itsdangerous>=0.24 in /usr/local/lib/python3.7/dist-packages (from Flask>=0.8->flask-ngrok) (1.1.0)\n",
            "Requirement already satisfied: click>=5.1 in /usr/local/lib/python3.7/dist-packages (from Flask>=0.8->flask-ngrok) (7.1.2)\n",
            "Requirement already satisfied: Jinja2>=2.10.1 in /usr/local/lib/python3.7/dist-packages (from Flask>=0.8->flask-ngrok) (2.11.3)\n",
            "Requirement already satisfied: Werkzeug>=0.15 in /usr/local/lib/python3.7/dist-packages (from Flask>=0.8->flask-ngrok) (1.0.1)\n",
            "Requirement already satisfied: MarkupSafe>=0.23 in /usr/local/lib/python3.7/dist-packages (from Jinja2>=2.10.1->Flask>=0.8->flask-ngrok) (1.1.1)\n",
            "Installing collected packages: flask-ngrok\n",
            "Successfully installed flask-ngrok-0.0.25\n"
          ],
          "name": "stdout"
        }
      ]
    },
    {
      "cell_type": "code",
      "metadata": {
        "colab": {
          "base_uri": "https://localhost:8080/"
        },
        "id": "4W5k2dTytaJw",
        "outputId": "15c75ead-e53d-4dc6-e39c-edb076183f3c"
      },
      "source": [
        "## FLASK\n",
        "##  Hosted on ngrok :: http://f211c07033ea.ngrok.io\n",
        "!pip install flask-ngrok\n",
        "import io\n",
        "from PIL import Image\n",
        "import os\n",
        "from flask import request, Response\n",
        "from flask import render_template\n",
        "from flask import send_file\n",
        "from flask_ngrok import run_with_ngrok\n",
        "from flask import Flask,flash\n",
        "from werkzeug.utils import secure_filename\n",
        "import urllib.request\n",
        "\n",
        "from os.path import join, dirname, realpath\n",
        "\n",
        "from PIL import Image\n",
        "import base64\n",
        "import io\n",
        "\n",
        "#UPLOADS_PATH = join(dirname(realpath(__file__)), 'static/uploads/..')\n",
        "\n",
        "app = Flask(__name__, template_folder='drive/My Drive/NeuralArtTransfer/templates',static_folder='drive/My Drive/NeuralArtTransfer/static')\n",
        "UPLOAD_FOLDER = 'static/uploads/'\n",
        "app.secret_key = \"secret key\"\n",
        "\n",
        "app.config['MAX_CONTENT_LENGTH'] = 16 * 1024 * 1024\n",
        "## The HTML Pages are stored in tempelate folder \n",
        "folder = \"drive/My Drive/NeuralArtTransfer/templates\";\n",
        "\n",
        "## Direct folder where uploaded image will be saved\n",
        "app.config['UPLOAD_FOLDER'] = UPLOAD_FOLDER\n",
        "run_with_ngrok(app)  ## Start ngork\n",
        "\n",
        "ALLOWED_EXTENSIONS = set(['png', 'jpg', 'jpeg'])\n",
        "\n",
        "def allowed_file(filename):\n",
        "\treturn '.' in filename and filename.rsplit('.', 1)[1].lower() in ALLOWED_EXTENSIONS\n",
        "\n",
        "\n",
        "@app.route('/',methods = ['POST' , 'GET'])   ## First Page\n",
        "\n",
        "## Sending Image to the server\n",
        "def neuralArt():\n",
        "  return render_template('imageupload.html')\n",
        "\n",
        "\n",
        "@app.route('/imageInput' , methods = ['POST' ,'GET'])  ## Second Page\n",
        "def getImage():\n",
        "  if 'content' not in request.files or 'style' not in request.files:\n",
        "    flash('No file part')\n",
        "    return render_template('imageupload.html')\n",
        "  content = request.files['content']\n",
        "  style = request.files['style']\n",
        "  if content.filename == '' or style.filename == '':\n",
        "    flash('No image selected for uploading')\n",
        "    return render_template('imageupload.html')\n",
        "  if content and allowed_file(content.filename) and style and allowed_file(style.filename):\n",
        "    \n",
        "    #im = Image.open(content)\n",
        "    #data = io.BytesIO()\n",
        "    #im.save(data, \"JPEG\")\n",
        "    #encoded_img_data = base64.b64encode(data.getvalue())\n",
        "    content.filename = \"content.jpg\"\n",
        "    style.filename = \"style.jpg\"\n",
        "    filename1 = secure_filename(content.filename)\n",
        "    #content.save(os.path.join(app.config['/static/uploads'], filename))\n",
        "    content.save( filename1)\n",
        "    #flash('upload_image filename: ' + filename)\n",
        "    filename2 = secure_filename(style.filename)\n",
        "    style.save( filename2)\n",
        "    #return \"<H1> Welcome to Neural Art Tranfer</H1>\"\n",
        "\n",
        "    #return render_template(\"index.html\", img_data=encoded_img_data.decode('utf-8'))\n",
        "  else:\n",
        "    flash('Allowed image types are -> png, jpg, jpeg, gif')\n",
        "    return render_template('imageupload.html')\n",
        "    \n",
        "  contentImage = get_image(\"content.jpg\")\n",
        "  styleImage = get_image(\"style.jpg\")\n",
        "  _ , resImage = runFunction(contentImage,styleImage)\n",
        "  resImage = resImage.reshape((resImage.shape[1] , resImage.shape[2],resImage.shape[3]))\n",
        "\n",
        "\n",
        "  #add other functionalities to convert resImage to resimg.jpg\n",
        "  imageio.imwrite('/content/resImage.jpg', resImage)\n",
        "  content_type = 'image/jpeg'\n",
        "  file_object = io.BytesIO()\n",
        "  img = imshowImage(resImage);\n",
        "  img = Image.fromarray(img.astype('uint8'))\n",
        "  img.save(file_object, 'jpeg')\n",
        "  file_object.seek(0)\n",
        "  return send_file(file_object , mimetype = 'image/jpeg')\n",
        "\n",
        "\n",
        "  return #render_template(\"output.html\", content = \"/content/content.jpg\",style=\"/content/style.jpg\",result=\"drive/My Drive/NeuralArtTransfer/static/resImage.jpg\")\n",
        "\n",
        "\n",
        "if __name__ == '__main__':\n",
        "  app.run()"
      ],
      "execution_count": null,
      "outputs": [
        {
          "output_type": "stream",
          "text": [
            "Requirement already satisfied: flask-ngrok in /usr/local/lib/python3.7/dist-packages (0.0.25)\n",
            "Requirement already satisfied: Flask>=0.8 in /usr/local/lib/python3.7/dist-packages (from flask-ngrok) (1.1.2)\n",
            "Requirement already satisfied: requests in /usr/local/lib/python3.7/dist-packages (from flask-ngrok) (2.23.0)\n",
            "Requirement already satisfied: click>=5.1 in /usr/local/lib/python3.7/dist-packages (from Flask>=0.8->flask-ngrok) (7.1.2)\n",
            "Requirement already satisfied: itsdangerous>=0.24 in /usr/local/lib/python3.7/dist-packages (from Flask>=0.8->flask-ngrok) (1.1.0)\n",
            "Requirement already satisfied: Jinja2>=2.10.1 in /usr/local/lib/python3.7/dist-packages (from Flask>=0.8->flask-ngrok) (2.11.3)\n",
            "Requirement already satisfied: Werkzeug>=0.15 in /usr/local/lib/python3.7/dist-packages (from Flask>=0.8->flask-ngrok) (1.0.1)\n",
            "Requirement already satisfied: certifi>=2017.4.17 in /usr/local/lib/python3.7/dist-packages (from requests->flask-ngrok) (2020.12.5)\n",
            "Requirement already satisfied: chardet<4,>=3.0.2 in /usr/local/lib/python3.7/dist-packages (from requests->flask-ngrok) (3.0.4)\n",
            "Requirement already satisfied: urllib3!=1.25.0,!=1.25.1,<1.26,>=1.21.1 in /usr/local/lib/python3.7/dist-packages (from requests->flask-ngrok) (1.24.3)\n",
            "Requirement already satisfied: idna<3,>=2.5 in /usr/local/lib/python3.7/dist-packages (from requests->flask-ngrok) (2.10)\n",
            "Requirement already satisfied: MarkupSafe>=0.23 in /usr/local/lib/python3.7/dist-packages (from Jinja2>=2.10.1->Flask>=0.8->flask-ngrok) (1.1.1)\n",
            " * Serving Flask app \"__main__\" (lazy loading)\n",
            " * Environment: production\n",
            "\u001b[31m   WARNING: This is a development server. Do not use it in a production deployment.\u001b[0m\n",
            "\u001b[2m   Use a production WSGI server instead.\u001b[0m\n",
            " * Debug mode: off\n"
          ],
          "name": "stdout"
        },
        {
          "output_type": "stream",
          "text": [
            " * Running on http://127.0.0.1:5000/ (Press CTRL+C to quit)\n",
            "INFO:werkzeug: * Running on http://127.0.0.1:5000/ (Press CTRL+C to quit)\n"
          ],
          "name": "stderr"
        },
        {
          "output_type": "stream",
          "text": [
            " * Running on http://c0da8c0f6c66.ngrok.io\n",
            " * Traffic stats available on http://127.0.0.1:4040\n"
          ],
          "name": "stdout"
        },
        {
          "output_type": "stream",
          "text": [
            "127.0.0.1 - - [17/Mar/2021 16:00:54] \"\u001b[37mGET / HTTP/1.1\u001b[0m\" 200 -\n",
            "INFO:werkzeug:127.0.0.1 - - [17/Mar/2021 16:00:54] \"\u001b[37mGET / HTTP/1.1\u001b[0m\" 200 -\n",
            "127.0.0.1 - - [17/Mar/2021 16:00:55] \"\u001b[37mGET /static/css/style.css HTTP/1.1\u001b[0m\" 200 -\n",
            "INFO:werkzeug:127.0.0.1 - - [17/Mar/2021 16:00:55] \"\u001b[37mGET /static/css/style.css HTTP/1.1\u001b[0m\" 200 -\n",
            "127.0.0.1 - - [17/Mar/2021 16:00:55] \"\u001b[37mGET /static/js/scripts.js HTTP/1.1\u001b[0m\" 200 -\n",
            "INFO:werkzeug:127.0.0.1 - - [17/Mar/2021 16:00:55] \"\u001b[37mGET /static/js/scripts.js HTTP/1.1\u001b[0m\" 200 -\n",
            "127.0.0.1 - - [17/Mar/2021 16:00:55] \"\u001b[37mGET /static/js/jquery-3.3.1.slim.min.js HTTP/1.1\u001b[0m\" 200 -\n",
            "INFO:werkzeug:127.0.0.1 - - [17/Mar/2021 16:00:55] \"\u001b[37mGET /static/js/jquery-3.3.1.slim.min.js HTTP/1.1\u001b[0m\" 200 -\n",
            "127.0.0.1 - - [17/Mar/2021 16:00:55] \"\u001b[37mGET /static/css/font-awesome.min.css HTTP/1.1\u001b[0m\" 200 -\n",
            "INFO:werkzeug:127.0.0.1 - - [17/Mar/2021 16:00:55] \"\u001b[37mGET /static/css/font-awesome.min.css HTTP/1.1\u001b[0m\" 200 -\n",
            "127.0.0.1 - - [17/Mar/2021 16:00:55] \"\u001b[37mGET /static/js/bootstrap.bundle.min.js HTTP/1.1\u001b[0m\" 200 -\n",
            "INFO:werkzeug:127.0.0.1 - - [17/Mar/2021 16:00:55] \"\u001b[37mGET /static/js/bootstrap.bundle.min.js HTTP/1.1\u001b[0m\" 200 -\n",
            "127.0.0.1 - - [17/Mar/2021 16:00:55] \"\u001b[37mGET /static/css/bootstrap.min.css HTTP/1.1\u001b[0m\" 200 -\n",
            "INFO:werkzeug:127.0.0.1 - - [17/Mar/2021 16:00:55] \"\u001b[37mGET /static/css/bootstrap.min.css HTTP/1.1\u001b[0m\" 200 -\n",
            "127.0.0.1 - - [17/Mar/2021 16:00:56] \"\u001b[37mGET / HTTP/1.1\u001b[0m\" 200 -\n",
            "INFO:werkzeug:127.0.0.1 - - [17/Mar/2021 16:00:56] \"\u001b[37mGET / HTTP/1.1\u001b[0m\" 200 -\n",
            "127.0.0.1 - - [17/Mar/2021 16:00:56] \"\u001b[33mGET /static/fonts/fontawesome-webfont.woff2?v=4.7.0 HTTP/1.1\u001b[0m\" 404 -\n",
            "INFO:werkzeug:127.0.0.1 - - [17/Mar/2021 16:00:56] \"\u001b[33mGET /static/fonts/fontawesome-webfont.woff2?v=4.7.0 HTTP/1.1\u001b[0m\" 404 -\n",
            "127.0.0.1 - - [17/Mar/2021 16:00:57] \"\u001b[33mGET /favicon.ico HTTP/1.1\u001b[0m\" 404 -\n",
            "INFO:werkzeug:127.0.0.1 - - [17/Mar/2021 16:00:57] \"\u001b[33mGET /favicon.ico HTTP/1.1\u001b[0m\" 404 -\n",
            "127.0.0.1 - - [17/Mar/2021 16:00:57] \"\u001b[33mGET /static/fonts/fontawesome-webfont.woff?v=4.7.0 HTTP/1.1\u001b[0m\" 404 -\n",
            "INFO:werkzeug:127.0.0.1 - - [17/Mar/2021 16:00:57] \"\u001b[33mGET /static/fonts/fontawesome-webfont.woff?v=4.7.0 HTTP/1.1\u001b[0m\" 404 -\n",
            "127.0.0.1 - - [17/Mar/2021 16:00:57] \"\u001b[33mGET /static/fonts/fontawesome-webfont.ttf?v=4.7.0 HTTP/1.1\u001b[0m\" 404 -\n",
            "INFO:werkzeug:127.0.0.1 - - [17/Mar/2021 16:00:57] \"\u001b[33mGET /static/fonts/fontawesome-webfont.ttf?v=4.7.0 HTTP/1.1\u001b[0m\" 404 -\n"
          ],
          "name": "stderr"
        },
        {
          "output_type": "stream",
          "text": [
            "Iteration : 0\n",
            "tf.Tensor(16325399000000.0, shape=(), dtype=float32)\n",
            "Iteration : 1\n",
            "tf.Tensor(9247469000000.0, shape=(), dtype=float32)\n",
            "Iteration : 2\n",
            "tf.Tensor(7195081600000.0, shape=(), dtype=float32)\n",
            "Iteration : 3\n",
            "tf.Tensor(6005105600000.0, shape=(), dtype=float32)\n",
            "Iteration : 4\n",
            "tf.Tensor(5548733000000.0, shape=(), dtype=float32)\n",
            "Iteration : 5\n",
            "tf.Tensor(3256712200000.0, shape=(), dtype=float32)\n",
            "Iteration : 6\n",
            "tf.Tensor(3038176300000.0, shape=(), dtype=float32)\n",
            "Iteration : 7\n",
            "tf.Tensor(2375224400000.0, shape=(), dtype=float32)\n",
            "Iteration : 8\n",
            "tf.Tensor(2294355600000.0, shape=(), dtype=float32)\n",
            "Iteration : 9\n"
          ],
          "name": "stdout"
        },
        {
          "output_type": "stream",
          "text": [
            "WARNING:root:Lossy conversion from float32 to uint8. Range [-204.91184997558594, 200.58303833007812]. Convert image to uint8 prior to saving to suppress this warning.\n",
            "127.0.0.1 - - [17/Mar/2021 16:02:02] \"\u001b[37mPOST /imageInput HTTP/1.1\u001b[0m\" 200 -\n",
            "INFO:werkzeug:127.0.0.1 - - [17/Mar/2021 16:02:02] \"\u001b[37mPOST /imageInput HTTP/1.1\u001b[0m\" 200 -\n"
          ],
          "name": "stderr"
        },
        {
          "output_type": "stream",
          "text": [
            "tf.Tensor(1821734100000.0, shape=(), dtype=float32)\n"
          ],
          "name": "stdout"
        }
      ]
    },
    {
      "cell_type": "code",
      "metadata": {
        "id": "eld4bYSj5cPO"
      },
      "source": [
        ""
      ],
      "execution_count": null,
      "outputs": []
    },
    {
      "cell_type": "markdown",
      "metadata": {
        "id": "kt2ScnS7LL-T"
      },
      "source": [
        "## APP RELATED CODE IGNORE"
      ]
    },
    {
      "cell_type": "code",
      "metadata": {
        "id": "CvjB4ZO6Cu35",
        "colab": {
          "base_uri": "https://localhost:8080/"
        },
        "outputId": "be8a34b7-9e93-4987-9f50-d5b1b8908f83"
      },
      "source": [
        "from google.colab import drive\n",
        "drive.mount('/content/drive/')"
      ],
      "execution_count": 22,
      "outputs": [
        {
          "output_type": "stream",
          "text": [
            "Mounted at /content/drive/\n"
          ],
          "name": "stdout"
        }
      ]
    },
    {
      "cell_type": "code",
      "metadata": {
        "id": "hlWK6mfbXKtO"
      },
      "source": [
        "imgVal = get_image(\"/content/templates/style.jpg\")"
      ],
      "execution_count": null,
      "outputs": []
    },
    {
      "cell_type": "code",
      "metadata": {
        "id": "NTIM8ASAtwQZ"
      },
      "source": [
        "imgVal.astype('uint8')"
      ],
      "execution_count": null,
      "outputs": []
    },
    {
      "cell_type": "code",
      "metadata": {
        "id": "Q6Dtzz6Ft53U"
      },
      "source": [
        "imgVal = get_image(\"/content/templates/style.jpg\")\n",
        "imgshow(imgVal)\n",
        "print(imgVal.shape)\n",
        "imgVal = imgVal.reshape((imgVal.shape[1] , imgVal.shape[2] , imgVal.shape[3] ))\n",
        "imgVal = Image.fromarray(imgVal.astype('uint8'))\n",
        "imgVal.save('COntenetIageas.jpg')"
      ],
      "execution_count": null,
      "outputs": []
    },
    {
      "cell_type": "code",
      "metadata": {
        "id": "-kQcKM-dD0us"
      },
      "source": [
        "cv2.imwrite(\"COntentImage.jpg\",imgVal);"
      ],
      "execution_count": null,
      "outputs": []
    },
    {
      "cell_type": "code",
      "metadata": {
        "id": "EvrEr_TbEYaG"
      },
      "source": [
        "## \n",
        "## 1) Get the ImageOutput Function to work to save an image in colab\n",
        "## 2) Send Image from colab to app\n",
        "## 3) Display Image\n",
        "## 4) Solve Preview Image prob on App"
      ],
      "execution_count": null,
      "outputs": []
    },
    {
      "cell_type": "code",
      "metadata": {
        "id": "k2aSQsk12HYl"
      },
      "source": [
        "contentImage = get_image(\"content.jpg\")\n",
        "styleImage = get_image(\"style.jpg\")\n",
        "_ , resImage = runFunction(contentImage,styleImage)"
      ],
      "execution_count": null,
      "outputs": []
    },
    {
      "cell_type": "code",
      "metadata": {
        "id": "7DpqRhso2I6h"
      },
      "source": [
        "print(resImage.shape[3])\n",
        "resImage = resImage.reshape((resImage.shape[1] , resImage.shape[2],resImage.shape[3]))"
      ],
      "execution_count": null,
      "outputs": []
    },
    {
      "cell_type": "code",
      "metadata": {
        "colab": {
          "base_uri": "https://localhost:8080/"
        },
        "id": "hQ4-o22A2Stc",
        "outputId": "fb99800e-8f98-419c-c02b-978f61b5c092"
      },
      "source": [
        "  imageio.imwrite('resImage.jpg', resImage)"
      ],
      "execution_count": null,
      "outputs": [
        {
          "output_type": "stream",
          "text": [
            "WARNING:root:Lossy conversion from float32 to uint8. Range [-215.6425018310547, 231.18890380859375]. Convert image to uint8 prior to saving to suppress this warning.\n"
          ],
          "name": "stderr"
        }
      ]
    },
    {
      "cell_type": "code",
      "metadata": {
        "id": "uz1uD6fY294-"
      },
      "source": [
        ""
      ],
      "execution_count": null,
      "outputs": []
    }
  ]
}